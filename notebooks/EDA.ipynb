import pandas as pd
import plotly.express as px

car_data = pd.read_csv('vehicles_us.csv')  # lendo os dados
fig = px.histogram(car_data, x="odometer") # criar um histograma
fig.show()  



car_data = pd.read_csv('vehicles_us.csv')         # lendo os dados
fig = px.scatter(car_data, x="odometer", y="price") # criar um gráfico de dispersão
fig.show()                                         # exibindo    