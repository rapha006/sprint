import pandas as pd
import plotly.express as px

# Lendo os dados uma única vez
car_data = pd.read_csv('C:\Users\asus\Desktop\sprint\vehicles_us.csv')

# Criando histograma
fig = px.histogram(car_data, x="odometer")
fig.show()

# Criando gráfico de dispersão
fig = px.scatter(car_data, x="odometer", y="price")
fig.show()